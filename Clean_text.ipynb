{
 "cells": [
  {
   "cell_type": "code",
   "execution_count": 82,
   "id": "3be77923-348a-452e-8bbe-08c3dd15ee7d",
   "metadata": {},
   "outputs": [],
   "source": [
    "import re\n",
    "text = \"\"\"\n",
    "Hey! Contact me at person@example.com.  \n",
    "The event was on 04/07/2025, and another one on July 4, 2025. \n",
    "Visit for more info... \n",
    "We also met on 2025-07-04. \n",
    "Call me!!!    Or not... 😅😅   \n",
    "\"\"\"\n"
   ]
  },
  {
   "cell_type": "code",
   "execution_count": 83,
   "id": "455249cb-78d7-4be1-93ef-8006b76711df",
   "metadata": {},
   "outputs": [
    {
     "name": "stdout",
     "output_type": "stream",
     "text": [
      "\n",
      "Hey! Contact me at person@example.com.  \n",
      "The event was on 04/07/2025, and another one on July 4, 2025. \n",
      "Visit for more info... \n",
      "We also met on 2025-07-04. \n",
      "Call me!!!    Or not... 😅😅   \n",
      "\n"
     ]
    }
   ],
   "source": [
    "print(text)"
   ]
  },
  {
   "cell_type": "code",
   "execution_count": null,
   "id": "8a0e7031",
   "metadata": {},
   "outputs": [],
   "source": []
  },
  {
   "cell_type": "code",
   "execution_count": 84,
   "id": "64321ead-3408-426f-8c48-9180fa6fb149",
   "metadata": {},
   "outputs": [],
   "source": [
    "#Remove dates\n",
    "date_pattern = r'\b(?:\d{1,2}[/-]\d{1,2}[/-]\d{2,4}|\d{4}[/-]\d{1,2}[/-]\d{1,2}|(?:Jan|Feb|Mar|Apr|May|Jun|Jul|Aug|Sep|Oct|Nov|Dec)[a-z]*\s+\d{1,2}(?:st|nd|rd|th)?(?:,\s+\d{4})?)\b'\n",
    "\n"
   ]
  },
  {
   "cell_type": "code",
   "execution_count": 85,
   "id": "76a3516a",
   "metadata": {},
   "outputs": [],
   "source": [
    "\n",
    "text = re.sub(date_pattern, '', text, flags=re.IGNORECASE)"
   ]
  },
  {
   "cell_type": "code",
   "execution_count": 86,
   "id": "9b787125",
   "metadata": {},
   "outputs": [],
   "source": [
    "#Remove emails\n",
    "text = re.sub(r'\\b[\\w\\.-]+@[\\w\\.-]+\\.\\w+\\b', '', text)"
   ]
  },
  {
   "cell_type": "code",
   "execution_count": 87,
   "id": "92ce74dc",
   "metadata": {},
   "outputs": [],
   "source": [
    "#Remove space and newlines\n",
    "text = re.sub(r'\\s+', ' ', text)"
   ]
  },
  {
   "cell_type": "code",
   "execution_count": 88,
   "id": "dd3c273a",
   "metadata": {},
   "outputs": [],
   "source": [
    "#Remove non-ASCII characters\n",
    "text = re.sub(r'[^\\x00-\\x7F]+', '', text)\n"
   ]
  },
  {
   "cell_type": "code",
   "execution_count": 89,
   "id": "ee9600ab",
   "metadata": {},
   "outputs": [],
   "source": [
    "#Remove excessive puntuatuion\n",
    "text = re.sub(r'([!?.]){2,}', r'\\1', text)        \n",
    "text = re.sub(r'\\.{2,}', '.', text)             \n",
    "text = re.sub(r'[^\\w\\s.,!?]', '', text) "
   ]
  },
  {
   "cell_type": "code",
   "execution_count": 90,
   "id": "e59bd8e4",
   "metadata": {},
   "outputs": [
    {
     "name": "stdout",
     "output_type": "stream",
     "text": [
      "Hey! Contact me at . The event was on , and another one on . Visit for more info. We also met on . Call me! Or not.\n"
     ]
    }
   ],
   "source": [
    "text = text.strip()\n",
    "print(text)"
   ]
  }
 ],
 "metadata": {
  "kernelspec": {
   "display_name": "Python 3",
   "language": "python",
   "name": "python3"
  },
  "language_info": {
   "codemirror_mode": {
    "name": "ipython",
    "version": 3
   },
   "file_extension": ".py",
   "mimetype": "text/x-python",
   "name": "python",
   "nbconvert_exporter": "python",
   "pygments_lexer": "ipython3",
   "version": "3.13.2"
  }
 },
 "nbformat": 4,
 "nbformat_minor": 5
}
